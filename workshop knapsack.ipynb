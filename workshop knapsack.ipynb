{
 "cells": [
  {
   "cell_type": "markdown",
   "metadata": {},
   "source": [
    "## Knapsack Problem\n",
    "\n",
    "The *knapsack problem*:  given a set of integers $S = \\{s_1, s_2, \\ldots, s_n\\}$ and a target number $T$, find a subset (i.e., knapsack) of $S$ which adds up exactly to $T$.  \n",
    "\n",
    "For example, if $S = \\{1,2,5, 9, 10\\}$, there is a subset that adds up to $T = 22$, but not to $T = 23$.  Complete the following tasks related to this problem."
   ]
  },
  {
   "cell_type": "markdown",
   "metadata": {},
   "source": [
    "# 1. \n",
    "\n",
    "Find a subset of $S = \\{1,2,5, 9, 10\\}$ with sum $T = 22$.  Explain the process (algorithm) you used mentally to find the subset.  Then apply the same process in an attempt to find a subset with sum $T = 23$.  \n",
    "\n",
    "How do you know there is no such subset?"
   ]
  },
  {
   "cell_type": "code",
   "execution_count": null,
   "metadata": {},
   "outputs": [],
   "source": [
    "# For T = 23, there is no subset that adds up to 23 if we try every possible combination from S\n",
    "# For T = 22, there is a combination if we try every possible combination from S, (1 + 2 + 9 + 10 = 22)"
   ]
  },
  {
   "cell_type": "markdown",
   "metadata": {
    "collapsed": true
   },
   "source": [
    "# 2.\n",
    "\n",
    "Consider the following possible algorithm for the knapsack problem, written in psuedocode: \n",
    "```python\n",
    "knapsack(S[], T):\n",
    "    K = empty\n",
    "    for each i < size(S)\n",
    "        if sum(K) + S[i] <= T, put S[i] into K\n",
    "    if sum(K) = T, return K, else return False.\n",
    "```\n",
    "**a)** Describe what this algorithm does in English.  \n",
    "\n",
    "**b)** Implement this algorithm in Python and run it on the $S$ and $T$ above.\n",
    "\n",
    "\n",
    "**c)** Prove that this algorithm is NOT correct.  That is, find a counterexample: a set $S$ and number $T$ for which there is a solution, but not one that the algorithm finds.\n",
    "\n",
    "**d)** Verify that this particular $S$ and $T$ does not give the right output when entered to your Python program."
   ]
  },
  {
   "cell_type": "code",
   "execution_count": null,
   "metadata": {},
   "outputs": [],
   "source": [
    "# a)\n",
    "\n",
    "# If K + an number of S is inferior or equal to T, we add the number in question to K.\n",
    "\n",
    "# If the sum of every number of K is equal to T, K is returned.\n",
    "\n",
    "# b)\n",
    "\n",
    "def knapsack(S, T):\n",
    "    K = []\n",
    "    for i in range(len(S)):\n",
    "        if (sum(K) + S[i]) <= T:\n",
    "            K.append(S[i])\n",
    "    \n",
    "    if sum(K) == T:\n",
    "        return K\n",
    "    else:\n",
    "        return False"
   ]
  },
  {
   "cell_type": "code",
   "execution_count": null,
   "metadata": {},
   "outputs": [],
   "source": [
    "S = [1, 10, 22]    \n",
    "T = 11\n",
    "\n",
    "knapsack(S, T)"
   ]
  },
  {
   "cell_type": "code",
   "execution_count": null,
   "metadata": {},
   "outputs": [],
   "source": [
    " # c) and d)\n",
    "\n",
    "# The algorithm tell us that there is no subset for T = 22 that exist in S, \n",
    "# but it's false because a subset exist.\n",
    "    \n",
    "S = [1, 2, 5, 9, 10]  \n",
    "T = 22\n",
    "\n",
    "knapsack(S, T)"
   ]
  },
  {
   "cell_type": "markdown",
   "metadata": {},
   "source": [
    "# 3. \n",
    "\n",
    "Another try: What if you put the elements in the knapsack from largest to smallest?  Check that this too is not a correct algorithm."
   ]
  },
  {
   "cell_type": "code",
   "execution_count": null,
   "metadata": {},
   "outputs": [],
   "source": [
    "S = [10, 9, 5, 2, 1]  \n",
    "T = 22\n",
    "\n",
    "knapsack(S, T)\n",
    "\n",
    "# Correct"
   ]
  },
  {
   "cell_type": "markdown",
   "metadata": {},
   "source": [
    "# 4.\n",
    "\n",
    "Describe a correct algorithm for the knapsack problem (that we haven't seen in class), both in English and in pseudocode.  Then implement the algorithm in Python.  Explain how you know your algorithm is correct (even if it might not be efficient)."
   ]
  },
  {
   "cell_type": "code",
   "execution_count": null,
   "metadata": {},
   "outputs": [],
   "source": [
    "# Reference : https://www.geeksforgeeks.org/0-1-knapsack-problem-dp-10/\n",
    "    \n",
    "def knapSack(W, wt, val, n): \n",
    "\n",
    "    if n == 0 or W == 0: \n",
    "        return 0\n",
    "    if (wt[n-1] > W): \n",
    "        return knapSack(W, wt, val, n-1) \n",
    "    else: \n",
    "        return max(val[n-1] + knapSack( W-wt[n-1], wt, val, n-1), knapSack(W, wt, val, n-1)) :\n"
   ]
  },
  {
   "cell_type": "markdown",
   "metadata": {
    "collapsed": true
   },
   "source": [
    "# 5. Generating correct change\n",
    "\n",
    "Now, we will be making change using the fewest coins. \n",
    "\n",
    "Suppose you are a programmer for a vending machine manufacturer. Your company wants to streamline effort by giving out the fewest possible coins in change for each transaction. Suppose a customer puts in a dollar bill and purchases an item for 37 cents. What is the smallest number of coins you can use to make change? The answer is six coins: two quarters, one dime, and three pennies. \n",
    "\n",
    "How did we arrive at the answer of six coins? We start with the largest coin in our arsenal (a quarter) and use as many of those as possible, then we go to the next lowest coin value and use as many of those as possible. This is the greedy algorithm for change-making.\n",
    "\n",
    "**Question:** Write the greedy algorithm for change making.\n",
    "\n",
    "The input is the amount of change to generate (in pennies) and a list of coin sizes (in pennies)\n",
    "\n",
    "The output is the minimum number of coins to gener\n",
    "\n",
    "```\n",
    "# buys with 1 dollar for 37 pennies\n",
    "# Second argument says we can give quarters, dimes, nickels and pennies\n",
    "make_change(100 - 37, [25, 10, 5, 1])\n",
    "\n",
    "# 2 quarters, one dime, and three pennies\n",
    "output --> 6 # Output would be equivalent to the choices [2, 1, 0, 3]\n",
    "```"
   ]
  },
  {
   "cell_type": "code",
   "execution_count": null,
   "metadata": {},
   "outputs": [],
   "source": [
    "# Reference : https://stackoverflow.com/questions/62158552/coin-change-problem-with-greedy-approach-in-python\n",
    "\n",
    "\n",
    "def make_change(amount, denomination_list):\n",
    "    change = []\n",
    "    for coin in denomination_list:\n",
    "        while amount:\n",
    "            if coin <= amount:\n",
    "                change.append(coin)\n",
    "                amount -= coin\n",
    "            else:\n",
    "                break\n",
    "    return len(change)\n",
    "\n",
    "make_change(100 - 37, [25, 10, 5, 1])"
   ]
  },
  {
   "cell_type": "markdown",
   "metadata": {},
   "source": [
    "# 6 Recursive change\n",
    "\n",
    "Write the greedy change making algorithm using recursion"
   ]
  },
  {
   "cell_type": "code",
   "execution_count": null,
   "metadata": {},
   "outputs": [],
   "source": [
    "# Reference : https://stackoverflow.com/questions/12520263/recursive-change-making-algorithm\n",
    "\n",
    "def min_change(C, V):\n",
    "    def min_coins(i, aC):\n",
    "        if aC == 0:\n",
    "            return 0\n",
    "        elif i == -1 or aC < 0:\n",
    "            return float('inf')\n",
    "        else:\n",
    "            return min(min_coins(i-1, aC), 1 + min_coins(i, aC-V[i]))\n",
    "    return min_coins(len(V)-1, C)\n",
    "\n",
    "\n",
    "min_change(100 - 37,[25, 10, 5, 1])"
   ]
  },
  {
   "cell_type": "markdown",
   "metadata": {},
   "source": [
    "# 7 (Stretch) Dynamic Programming Change making\n",
    "\n",
    "Write a solution to the change making problem using dynamic programming.\n",
    "\n",
    "**Hint:** Start with making change for one cent and systematically work its way up to the amount of change we require. This guarantees us that at each step of the algorithm we already know the minimum number of coins needed to make change for any smaller amount. Keep a memoized table of results for each step working up to the amount of change you need to generate."
   ]
  },
  {
   "cell_type": "code",
   "execution_count": null,
   "metadata": {},
   "outputs": [],
   "source": [
    "# Reference : https://stackoverflow.com/questions/12520263/recursive-change-making-algorithm\n",
    "\n",
    "def min_change(C, V):\n",
    "    m, n = len(V)+1, C+1\n",
    "    table = [[0] * n for x in range(m)]\n",
    "    for j in range(1, n):\n",
    "        table[0][j] = float('inf')\n",
    "    for i in range(1, m):\n",
    "        for j in range(1, n):\n",
    "            aC = table[i][j - V[i-1]] if j - V[i-1] >= 0 else float('inf')\n",
    "            table[i][j] = min(table[i-1][j], 1 + aC)\n",
    "    return table[m-1][n-1]\n",
    "\n",
    "min_change(100 - 37,[25, 10, 5, 1])"
   ]
  }
 ],
 "metadata": {
  "kernelspec": {
   "display_name": "Python 3",
   "language": "python",
   "name": "python3"
  },
  "language_info": {
   "codemirror_mode": {
    "name": "ipython",
    "version": 3
   },
   "file_extension": ".py",
   "mimetype": "text/x-python",
   "name": "python",
   "nbconvert_exporter": "python",
   "pygments_lexer": "ipython3",
   "version": "3.8.3"
  }
 },
 "nbformat": 4,
 "nbformat_minor": 1
}
